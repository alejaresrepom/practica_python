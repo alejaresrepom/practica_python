{
 "cells": [
  {
   "cell_type": "code",
   "execution_count": null,
   "metadata": {},
   "outputs": [],
   "source": [
    "#Los bucles repiten una linea o varias lineas de codigo, varias veces\n",
    "#Tipos de bucles: determinados(se ejecutan un numero determinado de vecces) e indeterminados (no sabemos cuantas veces se va a repetir)\n",
    "#Funciona para listas, tuplas y diccionarios\n",
    "\n",
    "num=[1,2,3,4,5]\n",
    "est_anio=[\"Primavera\", \"Invierno\", \"Verano\", \"Otoño\"]\n",
    "\n",
    "for i in est_anio:\n",
    "    print(i)"
   ]
  },
  {
   "cell_type": "code",
   "execution_count": null,
   "metadata": {},
   "outputs": [],
   "source": [
    "cursos = [\"Mouredev\", \"Píldoras informáticas\"]\n",
    "\n",
    "for i in cursos:\n",
    "    print(\"Hola\", end=\" \")"
   ]
  },
  {
   "cell_type": "code",
   "execution_count": null,
   "metadata": {},
   "outputs": [],
   "source": [
    "email = False\n",
    "email_usuario=input(\"Escriba su email: \")\n",
    "tiene_arroba = False\n",
    "tiene_punto = False\n",
    "\n",
    "for i in email_usuario:\n",
    "        if i == \"@\":\n",
    "            tiene_arroba = True\n",
    "        if i==\".\":\n",
    "            tiene_punto = True\n",
    "\n",
    "#Validar que el @ este antes del punto\n",
    "if tiene_arroba and tiene_punto:\n",
    "     posicion_arroba = email_usuario.index(\"@\")\n",
    "     posicion_punto = email_usuario.rindex(\".\")\n",
    "     if posicion_arroba < posicion_punto:\n",
    "          email = True\n",
    "\n",
    "if email == True: #Puedo omitir == True, ya que Python asume que cuando no se pone valor, lo reconoce como True\n",
    "    print(\"El email es correcto\")\n",
    "else:\n",
    "    print(\"El email es incorrecto\")\n"
   ]
  },
  {
   "cell_type": "code",
   "execution_count": 9,
   "metadata": {},
   "outputs": [
    {
     "name": "stdout",
     "output_type": "stream",
     "text": [
      "Valor de la variable: 4\n",
      "Valor de la variable: 6\n",
      "Valor de la variable: 8\n",
      "Valor de la variable: 10\n"
     ]
    }
   ],
   "source": [
    "# Puedo usar rangos\n",
    "for i in range(4,12,2): #El range admite 3 valores (el primero indica la cantidad de veces que se va a ejecutar, el segundo se admite como rango -de 4 a 8 sin incluirlo- y el tercero\n",
    "    #indica de cuanto en cuanto se van a mostrar los datos)\n",
    "    print(f\"Valor de la variable: {i}\")"
   ]
  },
  {
   "cell_type": "code",
   "execution_count": 13,
   "metadata": {},
   "outputs": [
    {
     "name": "stdout",
     "output_type": "stream",
     "text": [
      "Email correcto\n"
     ]
    }
   ],
   "source": [
    "# Funcion len\n",
    "\n",
    "valido = False\n",
    "email = input(\"Introduce tu email: \")\n",
    "\n",
    "for i in range (len(email)): #la función len devuelve la longitud - número de caracteres de un string\n",
    "    if email[i] ==\"@\": #verifica si el caracter en la posición \"i\" del string email es un @\n",
    "        valido = True\n",
    "        break # No es necesario seguir iterando una vez que se encuentra la arroba\n",
    "\n",
    "if valido:\n",
    "    print(\"Email correcto\")\n",
    "else:\n",
    "    (\"Email incorrecto\")"
   ]
  }
 ],
 "metadata": {
  "kernelspec": {
   "display_name": ".venv",
   "language": "python",
   "name": "python3"
  },
  "language_info": {
   "codemirror_mode": {
    "name": "ipython",
    "version": 3
   },
   "file_extension": ".py",
   "mimetype": "text/x-python",
   "name": "python",
   "nbconvert_exporter": "python",
   "pygments_lexer": "ipython3",
   "version": "3.12.4"
  }
 },
 "nbformat": 4,
 "nbformat_minor": 2
}
