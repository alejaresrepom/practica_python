{
 "cells": [
  {
   "cell_type": "code",
   "execution_count": null,
   "metadata": {},
   "outputs": [],
   "source": [
    "#Los bucles repiten una linea o varias lineas de codigo, varias veces\n",
    "#Tipos de bucles: determinados(se ejecutan un numero determinado de vecces) e indeterminados (no sabemos cuantas veces se va a repetir)\n",
    "#Funciona para listas, tuplas y diccionarios\n",
    "\n",
    "num=[1,2,3,4,5]\n",
    "est_anio=[\"Primavera\", \"Invierno\", \"Verano\", \"Otoño\"]\n",
    "\n",
    "for i in est_anio:\n",
    "    print(i)"
   ]
  },
  {
   "cell_type": "code",
   "execution_count": null,
   "metadata": {},
   "outputs": [],
   "source": [
    "cursos = [\"Mouredev\", \"Píldoras informáticas\"]\n",
    "\n",
    "for i in cursos:\n",
    "    print(\"Hola\", end=\" \")"
   ]
  },
  {
   "cell_type": "code",
   "execution_count": null,
   "metadata": {},
   "outputs": [],
   "source": [
    "email = False\n",
    "email_usuario=input(\"Escriba su email: \")\n",
    "tiene_arroba = False\n",
    "tiene_punto = False\n",
    "\n",
    "for i in email_usuario:\n",
    "        if i == \"@\":\n",
    "            tiene_arroba = True\n",
    "        if i==\".\":\n",
    "            tiene_punto = True\n",
    "\n",
    "#Validar que el @ este antes del punto\n",
    "if tiene_arroba and tiene_punto:\n",
    "     posicion_arroba = email_usuario.index(\"@\")\n",
    "     posicion_punto = email_usuario.rindex(\".\")\n",
    "     if posicion_arroba < posicion_punto:\n",
    "          email = True\n",
    "\n",
    "if email == True: #Puedo omitir == True, ya que Python asume que cuando no se pone valor, lo reconoce como True\n",
    "    print(\"El email es correcto\")\n",
    "else:\n",
    "    print(\"El email es incorrecto\")\n"
   ]
  },
  {
   "cell_type": "code",
   "execution_count": 43,
   "metadata": {},
   "outputs": [
    {
     "name": "stdout",
     "output_type": "stream",
     "text": [
      "Valor de la variable: 4\n",
      "Valor de la variable: 6\n"
     ]
    }
   ],
   "source": [
    "# Puedo usar rangos\n",
    "for i in range(4,8):\n",
    "    print(f\"Valor de la variable: {i}\")"
   ]
  },
  {
   "cell_type": "code",
   "execution_count": null,
   "metadata": {},
   "outputs": [],
   "source": [
    "# Funcion len\n",
    "\n",
    "valido = False\n",
    "email = input(\"Introduce tu email: \")\n",
    "\n",
    "for i in range (len(email)):\n",
    "    if email[i] ==\"@\":\n",
    "        valido = True\n",
    "\n",
    "if valido:\n",
    "    print(\"Email correcto\")\n",
    "else:\n",
    "    (\"Email incorrecto\")"
   ]
  }
 ],
 "metadata": {
  "kernelspec": {
   "display_name": ".venv",
   "language": "python",
   "name": "python3"
  },
  "language_info": {
   "codemirror_mode": {
    "name": "ipython",
    "version": 3
   },
   "file_extension": ".py",
   "mimetype": "text/x-python",
   "name": "python",
   "nbconvert_exporter": "python",
   "pygments_lexer": "ipython3",
   "version": "3.12.4"
  }
 },
 "nbformat": 4,
 "nbformat_minor": 2
}
