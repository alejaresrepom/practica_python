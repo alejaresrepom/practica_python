{
 "cells": [
  {
   "cell_type": "code",
   "execution_count": null,
   "metadata": {},
   "outputs": [],
   "source": [
    "# Gneradores: son mas eficientes que las funciones tradicionales\n",
    "# Son muy útiles con listas de valores infinitos\n",
    "# Bajo determinados escenarios, será muy útil que un generador devuelva los valores de uno en uno."
   ]
  },
  {
   "cell_type": "code",
   "execution_count": 1,
   "metadata": {},
   "outputs": [
    {
     "name": "stdout",
     "output_type": "stream",
     "text": [
      "[2, 4, 6, 8, 10, 12, 14, 16, 18]\n"
     ]
    }
   ],
   "source": [
    "# Generación de números pares con función tradicional\n",
    "\n",
    "def genera_pares(limite):\n",
    "\n",
    "    num=1\n",
    "    mi_lista=[]\n",
    "\n",
    "    while num<limite:\n",
    "        mi_lista.append(num*2)\n",
    "        num=num+1\n",
    "    return mi_lista\n",
    "\n",
    "print(genera_pares(10))"
   ]
  },
  {
   "cell_type": "code",
   "execution_count": 6,
   "metadata": {},
   "outputs": [
    {
     "name": "stdout",
     "output_type": "stream",
     "text": [
      "2\n",
      "Aquí podría ir más codigo....\n",
      "4\n",
      "Aquí podría ir más codigo....\n",
      "6\n"
     ]
    }
   ],
   "source": [
    "# Generación de números pares con generador. No genera el resto de elementos, ahorra memoria y mejora el rendimiento\n",
    "\n",
    "def genera_pares(limite):\n",
    "\n",
    "    num=1\n",
    "\n",
    "    while num<limite:\n",
    "        yield num*2 \n",
    "        num=num+1\n",
    "devuelve_pares=genera_pares(10)\n",
    "\n",
    "#for i in devuelve_pares:\n",
    "    #print(i)\n",
    "\n",
    "print(next(devuelve_pares))\n",
    "print(\"Aquí podría ir más codigo....\")\n",
    "print(next(devuelve_pares))\n",
    "print(\"Aquí podría ir más codigo....\")\n",
    "print(next(devuelve_pares))"
   ]
  },
  {
   "cell_type": "code",
   "execution_count": 3,
   "metadata": {},
   "outputs": [
    {
     "name": "stdout",
     "output_type": "stream",
     "text": [
      "M\n",
      "a\n"
     ]
    }
   ],
   "source": [
    "# Instrucción yield from: se usa para simplificar el código de los generadores en el caso de utilizar bucles anidados\n",
    "\n",
    "def devuelve_ciudades(*ciudades):\n",
    "    for elemento in ciudades:\n",
    "        #for subElemento in elemento:\n",
    "            yield from elemento # con esta instrucción se ahorra la línea de encima\n",
    "\n",
    "ciudades_devueltas = devuelve_ciudades(\"Madrid\", \"Barcelona\", \"Bilbao\", \"Valencia\")\n",
    "\n",
    "print(next(ciudades_devueltas))\n",
    "print(next(ciudades_devueltas))\n",
    "\n"
   ]
  }
 ],
 "metadata": {
  "kernelspec": {
   "display_name": "Python 3",
   "language": "python",
   "name": "python3"
  },
  "language_info": {
   "codemirror_mode": {
    "name": "ipython",
    "version": 3
   },
   "file_extension": ".py",
   "mimetype": "text/x-python",
   "name": "python",
   "nbconvert_exporter": "python",
   "pygments_lexer": "ipython3",
   "version": "3.12.4"
  }
 },
 "nbformat": 4,
 "nbformat_minor": 2
}
