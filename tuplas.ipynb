{
 "cells": [
  {
   "cell_type": "code",
   "execution_count": null,
   "metadata": {},
   "outputs": [],
   "source": [
    "#son similares a las listas, con algunas diferencias\n",
    "#son listas inmutables, que no cambian en el tiempo (no se pueden modificar, ni añadir, ni eliminar)\n",
    "#permiten extraer porciones (se obtiene una nueva tupla)\n",
    "#permiten realzar búsquedas y comprobar si un elemento se encuentra o no dentro de una tupla\n",
    "\n",
    "mi_tupla=(\"tomate\", \"cebolla\", \"manzana\", \"limón\",\"cebolla\")\n",
    "print(mi_tupla[2])\n"
   ]
  },
  {
   "cell_type": "code",
   "execution_count": null,
   "metadata": {},
   "outputs": [],
   "source": [
    "#list para convertir una tupla en lista\n",
    "mi_lista = list(mi_tupla)\n",
    "print(mi_lista)"
   ]
  },
  {
   "cell_type": "code",
   "execution_count": null,
   "metadata": {},
   "outputs": [],
   "source": [
    "#tuple para convertir una lista en tupla\n",
    "mi_tupla2 = tuple(mi_lista)\n",
    "print(mi_tupla2)"
   ]
  },
  {
   "cell_type": "code",
   "execution_count": null,
   "metadata": {},
   "outputs": [],
   "source": [
    "#comprobar si hay elementos dentro de una tupla, con \"in\"\n",
    "print(\"tomate\" in mi_tupla2)"
   ]
  },
  {
   "cell_type": "code",
   "execution_count": null,
   "metadata": {},
   "outputs": [],
   "source": [
    "#count para determinar cantidad de elementos que se encuentran dentro de una tupla\n",
    "print(mi_tupla2.count(\"cebolla\"))"
   ]
  },
  {
   "cell_type": "code",
   "execution_count": null,
   "metadata": {},
   "outputs": [],
   "source": [
    "#tuplas unitarias (se debe poner la coma al final para que se tome como una tupla de un solo elemento)\n",
    "tupla_unitaria=(\"Borrador\",)\n",
    "print(len(tupla_unitaria))\n",
    "print(tupla_unitaria)"
   ]
  },
  {
   "cell_type": "code",
   "execution_count": null,
   "metadata": {},
   "outputs": [],
   "source": [
    "#serie de variables\n",
    "mitupla2=(\"Andres\",7,9,1986)\n",
    "nombre, dia, mes, anio = mitupla2\n",
    "print(nombre)\n",
    "print(anio)\n",
    "print(mes)\n",
    "print(dia)"
   ]
  }
 ],
 "metadata": {
  "kernelspec": {
   "display_name": ".venv",
   "language": "python",
   "name": "python3"
  },
  "language_info": {
   "name": "python",
   "version": "3.12.4"
  }
 },
 "nbformat": 4,
 "nbformat_minor": 2
}
