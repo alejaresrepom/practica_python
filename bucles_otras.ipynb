{
 "cells": [
  {
   "cell_type": "code",
   "execution_count": null,
   "metadata": {},
   "outputs": [],
   "source": [
    "# continue, pass y else\n",
    "\n",
    "#continue salta a la siguiente interaccion de bucle \n",
    "#pass devuelve null\n",
    "#else funciona como funciona dentro del condicional if"
   ]
  },
  {
   "cell_type": "code",
   "execution_count": null,
   "metadata": {},
   "outputs": [],
   "source": [
    "#continue\n",
    "\n",
    "for letra in \"Python\":\n",
    "    if letra == \"h\":\n",
    "        continue #Cuando se cumple la condición anterior, va a ignorar el resto del bucle y pasar a la siguiente iteración (ignora la línea que imprime la h)\n",
    "    print(f\"Viendo la letra: {letra}\")"
   ]
  },
  {
   "cell_type": "code",
   "execution_count": null,
   "metadata": {},
   "outputs": [],
   "source": [
    "# contar el numero de caracteres que tiene un string sin imprimirlos\n",
    "\n",
    "texto = \"Pildoras informáticas\"\n",
    "contador = 0\n",
    "\n",
    "for caracter in texto:\n",
    "\n",
    "    if caracter == \" \":\n",
    "        continue\n",
    "    contador = contador + 1\n",
    "\n",
    "print(contador)"
   ]
  },
  {
   "cell_type": "code",
   "execution_count": null,
   "metadata": {},
   "outputs": [],
   "source": [
    "# pass se utiliza en casos muy concretos, devuelve un null, como si el bucle no se ejecutase\n",
    "\n",
    "while True:\n",
    "    pass"
   ]
  },
  {
   "cell_type": "code",
   "execution_count": 23,
   "metadata": {},
   "outputs": [
    {
     "name": "stdout",
     "output_type": "stream",
     "text": [
      "True\n"
     ]
    }
   ],
   "source": [
    "# se puede usar con bucles\n",
    "\n",
    "email =input(\"Introduce tu email: \")\n",
    "\n",
    "for i in email:\n",
    "    if i == \"@\":\n",
    "        arroba = True\n",
    "        break; #Para cuando se encuentre un arroba, sale del bucle for, jamás entrará en el else\n",
    "else:\n",
    "    arroba = False\n",
    "\n",
    "print(arroba)\n"
   ]
  }
 ],
 "metadata": {
  "kernelspec": {
   "display_name": "Python 3",
   "language": "python",
   "name": "python3"
  },
  "language_info": {
   "codemirror_mode": {
    "name": "ipython",
    "version": 3
   },
   "file_extension": ".py",
   "mimetype": "text/x-python",
   "name": "python",
   "nbconvert_exporter": "python",
   "pygments_lexer": "ipython3",
   "version": "3.12.4"
  }
 },
 "nbformat": 4,
 "nbformat_minor": 2
}
