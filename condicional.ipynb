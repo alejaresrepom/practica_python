{
 "cells": [
  {
   "cell_type": "code",
   "execution_count": null,
   "metadata": {},
   "outputs": [],
   "source": [
    "edad = int(input(\"Escriba la edad a evaluar: \"))\n",
    "\n",
    "if 0<edad<100:\n",
    "    print(\"Edad es correcta\")\n",
    "else:\n",
    "    print(\"Edad incorrecta\")"
   ]
  },
  {
   "cell_type": "code",
   "execution_count": null,
   "metadata": {},
   "outputs": [],
   "source": [
    "#Evaluar el salario de un conjunto de empleados\n",
    "\n",
    "salario_presidente = int(input(\"Introduce el salario del presidente: \"))\n",
    "print(\"Salario presidente: \" + str(salario_presidente))\n",
    "\n",
    "salario_director = int(input(\"Introduce el salario del director: \"))\n",
    "print(\"Salario presidente: \" + str(salario_director))\n",
    "\n",
    "salario_jefe_area = int(input(\"Introduce el salario del jefe del área: \"))\n",
    "print(\"Salario presidente: \" + str(salario_jefe_area))\n",
    "\n",
    "salario_administrativo = int(input(\"Introduce el salario del administrativo: \"))\n",
    "print(\"Salario presidente: \" + str(salario_administrativo))\n",
    "\n",
    "\n",
    "if salario_administrativo<salario_jefe_area<salario_director<salario_presidente:\n",
    "    print(\"Todo funciona correctamente\")\n",
    "else:\n",
    "    print(\"Algo huele mal. Revisar los salarios correspondientes\")"
   ]
  },
  {
   "cell_type": "code",
   "execution_count": null,
   "metadata": {},
   "outputs": [],
   "source": [
    "# Operadores and y or\n",
    "\n",
    "distancia_colegio=int(input(\"Introduce la distancia al colegio en km: \"))\n",
    "print(distancia_colegio)\n",
    "\n",
    "numero_hermanos=int(input(\"Introduce el número de hermanos: \"))\n",
    "print(numero_hermanos)\n",
    "\n",
    "salario_familiar=int(input(\"Introduce salario familiar anual bruto: \"))\n",
    "print(salario_familiar)\n",
    "\n",
    "if distancia_colegio>40 and numero_hermanos>2 and salario_familiar<=2000: #se puede cambiar el and por el or \n",
    "    print(\"Tienes derecho a beca\")\n",
    "else:\n",
    "    print(\"No tienes derecho a la beca\")"
   ]
  },
  {
   "cell_type": "code",
   "execution_count": null,
   "metadata": {},
   "outputs": [],
   "source": [
    "# Operador in con lower (minusculas) y upper (mayúsculas)\n",
    "\n",
    "print(\"Asignaturas optativas: Informática gráfica - Pruebas de software - Usabilidad y accesibilidad\")\n",
    "opcion = input(\"Escribe la asignatura elegida: \")\n",
    "asignatura =opcion.lower()\n",
    "\n",
    "if asignatura in (\"informática gráfica\", \"pruebas de software\", \"usabilidad y accesibilidad\"):\n",
    "    print(\"Asignatura elegida: \" + asignatura)\n",
    "else:\n",
    "    print(\"La asignatura escogida no está contemplada\")"
   ]
  }
 ],
 "metadata": {
  "kernelspec": {
   "display_name": ".venv",
   "language": "python",
   "name": "python3"
  },
  "language_info": {
   "codemirror_mode": {
    "name": "ipython",
    "version": 3
   },
   "file_extension": ".py",
   "mimetype": "text/x-python",
   "name": "python",
   "nbconvert_exporter": "python",
   "pygments_lexer": "ipython3",
   "version": "3.12.4"
  }
 },
 "nbformat": 4,
 "nbformat_minor": 2
}
