{
 "cells": [
  {
   "cell_type": "code",
   "execution_count": null,
   "metadata": {},
   "outputs": [],
   "source": [
    "print(\"Programa de evaluación de notas de estudiantes\")\n",
    "nota_estudiante=float(input(\"Escribe la nota del estudiante: \"))\n",
    "\n",
    "def evaluacion(nota):\n",
    "    valoracion=\"Aprobado\"\n",
    "    if nota<5:\n",
    "        valoracion=\"Suspenso\"\n",
    "    return valoracion\n",
    "\n",
    "print(evaluacion(nota_estudiante))"
   ]
  },
  {
   "cell_type": "code",
   "execution_count": null,
   "metadata": {},
   "outputs": [],
   "source": [
    "#Funcion else\n",
    "\n",
    "edad = int(input(\"Escriba su edad en años cumplidos: \"))\n",
    "\n",
    "def control_ingreso(edad):\n",
    "    if edad <18:\n",
    "        print(\"No puedes ingresar\")\n",
    "    elif edad >100:\n",
    "        print(\"Edad incorrecta\")\n",
    "    else:\n",
    "        print(\"Puedes ingresar\")\n",
    "control_ingreso(edad)\n",
    "\n",
    "print(\"El programa ha finalizado\")"
   ]
  },
  {
   "cell_type": "code",
   "execution_count": null,
   "metadata": {},
   "outputs": [],
   "source": [
    "#Evaluar notas\n",
    "\n",
    "nota_estudiante=int(input(\"Ingrese la nota del estudiamte: \"))\n",
    "\n",
    "if nota_estudiante<5:\n",
    "    print(\"Insuficiente\")\n",
    "elif nota_estudiante<6:\n",
    "    print(\"Suficiente\")\n",
    "elif nota_estudiante<7:\n",
    "    print(\"Bien\")\n",
    "elif nota_estudiante<9:\n",
    "    print(\"Notable\")\n",
    "else:\n",
    "    print(\"Sobresaliente\")"
   ]
  }
 ],
 "metadata": {
  "kernelspec": {
   "display_name": ".venv",
   "language": "python",
   "name": "python3"
  },
  "language_info": {
   "name": "python",
   "version": "3.12.4"
  }
 },
 "nbformat": 4,
 "nbformat_minor": 2
}
