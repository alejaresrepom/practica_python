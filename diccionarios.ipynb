{
 "cells": [
  {
   "cell_type": "code",
   "execution_count": 1,
   "metadata": {},
   "outputs": [
    {
     "name": "stdout",
     "output_type": "stream",
     "text": [
      "Bogota\n"
     ]
    }
   ],
   "source": [
    "#Son parecidos a las listas y a las tuplas\n",
    "#Se realiza con una asociación de clave:valor {\"Alejandra\":\"Restrepo\"}\n",
    "#Permite almacenar cualquier tipo de valor, incluso tuplas, listas y otro diccionario\n",
    "#El orden en el que se almacenan no importa\n",
    "#No pueden haber dos claves iguales\n",
    "\n",
    "mi_diccionario={\"Alemania\":\"Berlin\",\"Francia\":\"Paris\",23:\"Jordan\",\"Colombia\":\"Bogota\",\"Mosqueteros\":3,\"España\":\"Madrid\",\"Reino Unido\":\"Londres\"}\n",
    "print(mi_diccionario[\"Colombia\"])\n",
    "\n"
   ]
  },
  {
   "cell_type": "code",
   "execution_count": null,
   "metadata": {},
   "outputs": [],
   "source": [
    "#Agregar elementos a un diccionario\n",
    "mi_diccionario[\"Italia\"]=\"Lisboa\"\n",
    "\n"
   ]
  },
  {
   "cell_type": "code",
   "execution_count": null,
   "metadata": {},
   "outputs": [],
   "source": [
    "#Modificar el valor de una clave (por ejemplo la clave anterior)\n",
    "mi_diccionario[\"Italia\"]=\"Roma\"\n",
    "\n"
   ]
  },
  {
   "cell_type": "code",
   "execution_count": null,
   "metadata": {},
   "outputs": [],
   "source": [
    "#Eliminar elementos (para eliminar Reino Unido)\n",
    "del mi_diccionario[\"Reino Unido\"]\n",
    "\n",
    "print(mi_diccionario)\n",
    "\n"
   ]
  },
  {
   "cell_type": "code",
   "execution_count": null,
   "metadata": {},
   "outputs": [],
   "source": [
    "#Agregar una lista a un diccionario\n",
    "milista = [\"España\", \"Francia\", \"Reino Unido\", \"Alemania\"]\n",
    "midiccionario={milista[0]:\"Madrid\", milista[1]:\"Paris\", milista[2]:\"Londres\", milista[3]:\"Berlin\"}\n",
    "print(midiccionario)\n",
    "print(midiccionario[\"Francia\"])\n",
    "\n"
   ]
  },
  {
   "cell_type": "code",
   "execution_count": null,
   "metadata": {},
   "outputs": [],
   "source": [
    "#Hacer que un diccionario almacene una lista entera de valores\n",
    "midiccionario2={23:\"Jordan\", \"Nombre\":\"Michael\", \"Equipo\":\"Chicago\", \"Anillos\":[1991,1992,1993,1996,1997,1998]}\n",
    "print(midiccionario2[\"Equipo\"])\n",
    "print(midiccionario2[\"Anillos\"])\n",
    "\n"
   ]
  },
  {
   "cell_type": "code",
   "execution_count": null,
   "metadata": {},
   "outputs": [],
   "source": [
    "#Convertir Anillos en diccionario\n",
    "midiccionario2={23:\"Jordan\", \"Nombre\":\"Michael\", \"Equipo\":\"Chicago\", \"Anillos\":{\"temporadas\":[1991,1992,1993,1996,1997,1998]}}\n",
    "print(midiccionario2[\"Equipo\"])\n",
    "print(midiccionario2[\"Anillos\"])\n",
    "print(midiccionario2)\n",
    "\n"
   ]
  },
  {
   "cell_type": "code",
   "execution_count": null,
   "metadata": {},
   "outputs": [],
   "source": [
    "#Métodos interesantes\n",
    "#keys: devuelve las claves de un diccionario\n",
    "#values: devuelve los valores\n",
    "#len: devuelve la longitud\n",
    "\n",
    "print(midiccionario2.keys())\n",
    "print(midiccionario2.values())\n",
    "print(len(midiccionario2)) #cantidad de parejas, de clave:valor."
   ]
  }
 ],
 "metadata": {
  "kernelspec": {
   "display_name": ".venv",
   "language": "python",
   "name": "python3"
  },
  "language_info": {
   "codemirror_mode": {
    "name": "ipython",
    "version": 3
   },
   "file_extension": ".py",
   "mimetype": "text/x-python",
   "name": "python",
   "nbconvert_exporter": "python",
   "pygments_lexer": "ipython3",
   "version": "3.12.4"
  }
 },
 "nbformat": 4,
 "nbformat_minor": 2
}
