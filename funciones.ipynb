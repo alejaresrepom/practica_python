{
 "cells": [
  {
   "cell_type": "code",
   "execution_count": null,
   "metadata": {},
   "outputs": [],
   "source": [
    "def mensajes_aprendizaje():\n",
    "    print(\"Estamos aprendiendo Python\")\n",
    "    print(\"Estamos aprendiendo instrucciones básicas\")\n",
    "    print(\"Poco a poco iremos avanzando\")\n",
    "mensajes_aprendizaje()"
   ]
  },
  {
   "cell_type": "code",
   "execution_count": null,
   "metadata": {},
   "outputs": [],
   "source": [
    "def suma():\n",
    "    num1=int(input(\"Escribe el primer número para la suma: \"))\n",
    "    num2=int(input(\"Escribe el segundo número para la suma: \"))\n",
    "    print(num1+num2)\n",
    "suma()"
   ]
  },
  {
   "cell_type": "code",
   "execution_count": null,
   "metadata": {},
   "outputs": [],
   "source": [
    "def suma1(num1, num2):\n",
    "    print(num1+num2)\n",
    "suma1(8, 7)"
   ]
  },
  {
   "cell_type": "code",
   "execution_count": null,
   "metadata": {},
   "outputs": [],
   "source": [
    "def suma2(num1, num2):\n",
    "    resultado = num1+num2\n",
    "    return resultado\n",
    "print(suma2(2,2))"
   ]
  }
 ],
 "metadata": {
  "kernelspec": {
   "display_name": ".venv",
   "language": "python",
   "name": "python3"
  },
  "language_info": {
   "codemirror_mode": {
    "name": "ipython",
    "version": 3
   },
   "file_extension": ".py",
   "mimetype": "text/x-python",
   "name": "python",
   "nbconvert_exporter": "python",
   "pygments_lexer": "ipython3",
   "version": "3.12.4"
  }
 },
 "nbformat": 4,
 "nbformat_minor": 2
}
