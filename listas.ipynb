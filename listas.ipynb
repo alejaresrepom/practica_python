{
 "cells": [
  {
   "cell_type": "code",
   "execution_count": 1,
   "metadata": {},
   "outputs": [
    {
     "name": "stdout",
     "output_type": "stream",
     "text": [
      "5\n"
     ]
    }
   ],
   "source": [
    "mi_lista=[\"89.6\", \"Alejandra\", \"5\", \"Andres\"]\n",
    "print(mi_lista[2])\n",
    "#Si accedemos a un índice que no existe arroja error (list index out of range)\n",
    "#print(mi_lista[7])"
   ]
  },
  {
   "cell_type": "code",
   "execution_count": null,
   "metadata": {},
   "outputs": [],
   "source": [
    "#Cuando escribimos índices negativos en una lista, le da la vuelta (lo cuenta desde el final, desde -1)\n",
    "print(mi_lista[-1])\n",
    "print(mi_lista[2:]) #desde el segundo índice hasta el final\n",
    "print(mi_lista[:3]) #hasta el tercer índice (sin incluir este último)"
   ]
  },
  {
   "cell_type": "code",
   "execution_count": null,
   "metadata": {},
   "outputs": [],
   "source": [
    "#append para agregar elementos (al final)\n",
    "mi_lista.append(\"Sandra\")\n",
    "print(mi_lista[:])"
   ]
  },
  {
   "cell_type": "code",
   "execution_count": null,
   "metadata": {},
   "outputs": [],
   "source": [
    "#insert para agregar elemento en una posición x\n",
    "mi_lista.insert(1,\"Ginebra\") #Agrega ese elemento en el índice 1\n",
    "print(mi_lista[:])"
   ]
  },
  {
   "cell_type": "code",
   "execution_count": null,
   "metadata": {},
   "outputs": [],
   "source": [
    "#extend para agregar varios elementos a una lista\n",
    "mi_lista.extend([\"Anina\", \"Jose Newton\", \"Lucia\"])\n",
    "print(mi_lista[:])"
   ]
  },
  {
   "cell_type": "code",
   "execution_count": null,
   "metadata": {},
   "outputs": [],
   "source": [
    "#devolver indice dentro de la lista\n",
    "print(mi_lista.index(\"Ginebra\"))"
   ]
  },
  {
   "cell_type": "code",
   "execution_count": null,
   "metadata": {},
   "outputs": [],
   "source": [
    "#comprobar si un elemento se encuentra o no en una lista (devuelve true o false)\n",
    "print(\"Gloria\" in mi_lista)"
   ]
  },
  {
   "cell_type": "code",
   "execution_count": null,
   "metadata": {},
   "outputs": [],
   "source": [
    "#remove para eliminar elementos\n",
    "mi_lista.remove(\"Alejandra\")\n",
    "print(mi_lista[:])"
   ]
  },
  {
   "cell_type": "code",
   "execution_count": null,
   "metadata": {},
   "outputs": [],
   "source": [
    "#pop para eliminar en último lugar\n",
    "mi_lista.pop()\n",
    "print(mi_lista[:])"
   ]
  },
  {
   "cell_type": "code",
   "execution_count": null,
   "metadata": {},
   "outputs": [],
   "source": [
    "#operador suma para sumar listas diferentes\n",
    "mi_lista2=[\"Tomate\", \"Cebolla\"]\n",
    "mi_lista3 = (mi_lista + mi_lista2)*3\n",
    "print(mi_lista3[:])"
   ]
  }
 ],
 "metadata": {
  "kernelspec": {
   "display_name": ".venv",
   "language": "python",
   "name": "python3"
  },
  "language_info": {
   "codemirror_mode": {
    "name": "ipython",
    "version": 3
   },
   "file_extension": ".py",
   "mimetype": "text/x-python",
   "name": "python",
   "nbconvert_exporter": "python",
   "pygments_lexer": "ipython3",
   "version": "3.12.4"
  }
 },
 "nbformat": 4,
 "nbformat_minor": 2
}
