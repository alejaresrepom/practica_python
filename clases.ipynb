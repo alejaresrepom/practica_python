{
 "cells": [
  {
   "cell_type": "code",
   "execution_count": 56,
   "metadata": {},
   "outputs": [
    {
     "name": "stdout",
     "output_type": "stream",
     "text": [
      "Realizando chequeo interno\n",
      "El coche está en marcha\n",
      "Propiedades: El coche tiene 4 ruedas. Un ancho de 120 y un largo de 250\n"
     ]
    }
   ],
   "source": [
    "class Coche():\n",
    "\n",
    "# un constructor, es un método especial que le da un estado inicial a los objetos\n",
    "\n",
    "    def __init__(self): # es el constructor de inicio de la clase. Es el estado inicial\n",
    "        # Se deben encapsular estas variables para que no sean accesibles desde el exterior de la clase.\n",
    "        self.__largoChasis = 250\n",
    "        self.__anchoChasis = 120\n",
    "        self.__ruedas = 4\n",
    "        self.__enMarcha=False\n",
    "\n",
    "#Los comportamientos dentro de una clase, serán los métodos (es una función especial que pertenece a la clase, y la función no pertenece a ninguna clase)\n",
    "\n",
    "#self hace referencia al propio objeto perteneciente a la clase, hace referencia a la instancia perteneciente a la clase\n",
    "    def arrancar (self, arrancamos):\n",
    "        self.__enMarcha = arrancamos\n",
    "\n",
    "        if (self.__enMarcha):\n",
    "            chequeo = self.__chequeo_interno()\n",
    "        if(self.__enMarcha and chequeo):\n",
    "            return \"El coche está en marcha\"\n",
    "        if(self.__enMarcha and chequeo ==False):\n",
    "            return \"Algo ha ido mal en el chequeo. No podemos arrancar\"\n",
    "        else:\n",
    "            return \"El coche está parado\"\n",
    "\n",
    "    def estado (self):\n",
    "        print(\"Propiedades: El coche tiene\", self.__ruedas, \"ruedas. Un ancho de\", self.__anchoChasis, \"y un largo de\", self.__largoChasis)\n",
    "    \n",
    "    #Hay que encapsular este método para que no se pueda acceder al método fuera de la clase, y quede restringido a uso interno(dentro de la clase)\n",
    "    def __chequeo_interno(self):\n",
    "        print(\"Realizando chequeo interno\")\n",
    "\n",
    "        self.gasolina = \"Ok\"\n",
    "        self.aceite = \"Ok\"\n",
    "        self.puertas = \"Cerradas\"\n",
    "\n",
    "        if(self.gasolina == \"Ok\" and self.aceite == \"Ok\" and self.puertas == \"Cerradas\"):\n",
    "            return True\n",
    "        else:\n",
    "            return False\n",
    "\n",
    "# Contrucción de objeto, instancia o ejemplar perteneciente a la clase Coche\n",
    "mi_coche = Coche() #Instanciar una clase.\n",
    "\n",
    "#Acceder a las propiedades de la clase\n",
    "'''print(\"El largo del coche es:\", mi_coche.largoChasis)\n",
    "print(\"El coche tiene\", mi_coche.ruedas, \"ruedas\")\n",
    "print(\"El ancho del chasis es:\", mi_coche.anchoChasis)'''\n",
    "\n",
    "#Acceder al comportamiento\n",
    "print(mi_coche.arrancar(True)) # Si no accedemos al método arrancar, va a traer el estado inicial del coche que es \"Parado\"\n",
    "\n",
    "mi_coche.estado()\n"
   ]
  },
  {
   "cell_type": "code",
   "execution_count": 57,
   "metadata": {},
   "outputs": [
    {
     "name": "stdout",
     "output_type": "stream",
     "text": [
      "El coche está parado\n",
      "Propiedades: El coche tiene 4 ruedas. Un ancho de 120 y un largo de 250\n"
     ]
    }
   ],
   "source": [
    "# Creación del segundo objeto\n",
    "\n",
    "mi_coche2 = Coche()\n",
    "\n",
    "#Acceder a las propiedades de la clase\n",
    "'''print(\"El largo del coche es:\", mi_coche2.largoChasis)\n",
    "print(\"El coche tiene\", mi_coche2.ruedas, \"ruedas\")\n",
    "print(\"El ancho del chasis es:\", mi_coche2.anchoChasis)'''\n",
    "\n",
    "print(mi_coche2.arrancar(False))\n",
    "mi_coche2.estado()"
   ]
  },
  {
   "cell_type": "code",
   "execution_count": null,
   "metadata": {},
   "outputs": [],
   "source": [
    "\n"
   ]
  }
 ],
 "metadata": {
  "kernelspec": {
   "display_name": "Python 3",
   "language": "python",
   "name": "python3"
  },
  "language_info": {
   "codemirror_mode": {
    "name": "ipython",
    "version": 3
   },
   "file_extension": ".py",
   "mimetype": "text/x-python",
   "name": "python",
   "nbconvert_exporter": "python",
   "pygments_lexer": "ipython3",
   "version": "3.12.4"
  }
 },
 "nbformat": 4,
 "nbformat_minor": 2
}
