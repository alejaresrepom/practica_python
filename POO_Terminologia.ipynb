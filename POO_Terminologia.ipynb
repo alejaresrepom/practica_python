{
 "cells": [
  {
   "cell_type": "code",
   "execution_count": null,
   "metadata": {},
   "outputs": [],
   "source": [
    "'''\n",
    "Clase: Modelo donde se redactan las características comunes de un grupo de objetos\n",
    "- Caracteristicas comunes de los autos\n",
    "- 4 ruedas\n",
    "- 1 Chazis\n",
    "\n",
    "Ejemplar de clase. Instancia de clase. Objeto de clase: Son sinónimos\n",
    "- Una instancia es un objeto o ejemplar perteneciente a una clase\n",
    "- Autos que comparten el mismo chazis y las mismas llantas (de resto tienen características únicas cada uno)\n",
    "- Comparten una serie de caracteristicas comunes definidas en la clase, y luego cada uno tiene sus propias características definidas dentro del propio objeto.\n",
    "\n",
    "Modularización: una aplicación puede estar compuesta de varias clases.\n",
    "- Cada módulo funciona de forma independiente (reutilizar componentes, trozos de código, de un programa en otro)\n",
    "- Si uno se daña, los otros siguen funcionando\n",
    "\n",
    "Encapsulación: el funcionamiento interno de las clases, nada sabe de otras clases, pero de alguna forma todas las clases están conectadas para que funcionen como equipo, \n",
    "y a su vez, todas las clases están encapsuladas, para que no sean accesibles desde afuera\n",
    "\n",
    "Métodos de acceso: sirve para conectar unas clases con otras.\n",
    "- Tienen acceso solo a ciertas características de la clase\n",
    "\n",
    "COMO LLEVAR LO ANTERIOR A PYTHON? - Se utiliza la nomenclatura del punto\n",
    "\n",
    "Se crea un objeto (miCoche)\n",
    "\n",
    "- Para acceder a las propiedades \n",
    "miCoche.color=\"rojo\";\n",
    "--Para acceder al comportamiento\n",
    "miCoche.arranca();\n",
    "\n",
    "\n",
    "'''"
   ]
  }
 ],
 "metadata": {
  "language_info": {
   "name": "python"
  }
 },
 "nbformat": 4,
 "nbformat_minor": 2
}
