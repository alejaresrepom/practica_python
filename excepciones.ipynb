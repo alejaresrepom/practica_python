{
 "cells": [
  {
   "cell_type": "code",
   "execution_count": null,
   "metadata": {},
   "outputs": [],
   "source": [
    "# Las excepciones son un error en tiempo de ejecución\n",
    "\n",
    "def suma(num1, num2):\n",
    "\treturn num1+num2\n",
    "\n",
    "def resta(num1, num2):\n",
    "\treturn num1-num2\n",
    "\n",
    "def multiplica(num1, num2):\n",
    "\treturn num1*num2\n",
    "\n",
    "def divide(num1, num2):\n",
    "    try:\n",
    "        return num1/num2\n",
    "    except ZeroDivisionError:\n",
    "        print(\"No se puede dividir entre 0\")\n",
    "        return \"Operación errónea\"\n",
    "\n",
    "# Cuando se introducen valores falsos va a volver a solicitar el número, porque no pasa por el break. Es un bucle infinito\n",
    "\n",
    "while True:\n",
    "    try:\n",
    "        op1=(int(input(\"Introduce el primer número: \")))\n",
    "        op2=(int(input(\"Introduce el segundo número: \")))\n",
    "        break\n",
    "    \n",
    "    except ValueError:\n",
    "        print(\"Los valores introducidos no son correctos. Intentalo de nuevo\")\n",
    "\n",
    "operacion=input(\"Introduce la operación a realizar (suma,resta,multiplica,divide): \")\n",
    "\n",
    "\n",
    "if operacion==\"suma\":\n",
    "\tprint(suma(op1,op2))\n",
    "\n",
    "elif operacion==\"resta\":\n",
    "\tprint(resta(op1,op2))\n",
    "\n",
    "elif operacion==\"multiplica\":\n",
    "\tprint(multiplica(op1,op2))\n",
    "\n",
    "elif operacion==\"divide\":\n",
    "\tprint(divide(op1,op2))\n",
    "\n",
    "else:\n",
    "\tprint (\"Operación no contemplada\")\n",
    "\t\n",
    "print(\"Operación ejecutada. Continuación de ejecución del programa \") # En adelante hay muchas más líneas"
   ]
  },
  {
   "cell_type": "code",
   "execution_count": null,
   "metadata": {},
   "outputs": [],
   "source": [
    "def divide():\n",
    "\n",
    "    try: \n",
    "        op1=(float(input(\"Introduce el primer numero: \")))\n",
    "        op2=(float(input(\"Introduce el segundo numero: \")))\n",
    "        print(f\"La división es {op1/op2}\")\n",
    "\n",
    "    except ValueError:\n",
    "        print(\"El valor introducido es erróneto\")\n",
    "\n",
    "    except ZeroDivisionError:\n",
    "        print(\"No se puede dividir entre 0\")\n",
    "    \n",
    "    finally: #Lo que pongamos acá siempre se va a ejecutar\n",
    "\n",
    "        print(\"Calculo finalizado\")\n",
    "\n",
    "divide()"
   ]
  },
  {
   "cell_type": "code",
   "execution_count": null,
   "metadata": {},
   "outputs": [],
   "source": [
    "# Evaluar edad - raise\n",
    "\n",
    "def evalua_edad(edad):\n",
    "\n",
    "    if edad <0:\n",
    "        raise TypeError(\"No se permiten edades negativas\")\n",
    "\n",
    "    if edad <20:\n",
    "        return \"Eres muy joven\"\n",
    "    elif edad <40:\n",
    "        return \"Eres joven\"\n",
    "    elif edad <65:\n",
    "        return \"Eres maduro\"\n",
    "    elif edad <100:\n",
    "        return \"Cuídate...\"\n",
    "    \n",
    "print (evalua_edad(15))"
   ]
  },
  {
   "cell_type": "code",
   "execution_count": 21,
   "metadata": {},
   "outputs": [
    {
     "name": "stdout",
     "output_type": "stream",
     "text": [
      "La raíz cuadrada es: 9.219544457292887\n",
      "Programa terminado\n"
     ]
    }
   ],
   "source": [
    "import math\n",
    "\n",
    "def calcula_raiz(num1):\n",
    "\n",
    "    if num1 <0:\n",
    "        raise ValueError (\"El número no puede ser negativo\")\n",
    "    else:\n",
    "        return math.sqrt(num1)\n",
    "\n",
    "while True:\n",
    "    try:\n",
    "        op1=(int(input(\"Introduce un número: \")))\n",
    "        resultado=calcula_raiz(op1)\n",
    "        break\n",
    "    except ValueError as ErrorNegativos:\n",
    "        print(ErrorNegativos)\n",
    "\n",
    "print(\"La raíz cuadrada es:\", resultado)\n",
    "print(\"Programa terminado\")"
   ]
  }
 ],
 "metadata": {
  "kernelspec": {
   "display_name": "Python 3",
   "language": "python",
   "name": "python3"
  },
  "language_info": {
   "codemirror_mode": {
    "name": "ipython",
    "version": 3
   },
   "file_extension": ".py",
   "mimetype": "text/x-python",
   "name": "python",
   "nbconvert_exporter": "python",
   "pygments_lexer": "ipython3",
   "version": "3.12.4"
  }
 },
 "nbformat": 4,
 "nbformat_minor": 2
}
