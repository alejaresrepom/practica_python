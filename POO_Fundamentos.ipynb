{
 "cells": [
  {
   "cell_type": "code",
   "execution_count": null,
   "metadata": {},
   "outputs": [],
   "source": [
    "# Categorías\n",
    "\n",
    "# Orientados a procedimientos (antiguos) - Algunos de ellos se siguien utilizando. Fortran, Cobol, Basic...\n",
    "\n",
    "# Desventajas: Unidades de código muy grandes (de manera exagerada)\n",
    "# Son programas complejos de descifrar y es poco reutilizable\n",
    "# Si existe fallo en alguna línea del código, es muy probable que el programa caiga.\n",
    "# Aparición frecuente de código espagueti: GO SUB o GO TO... pegan saltos y se saltan ciertas líneas ( se le llama así porque el flujo de ejecuión tiene forma de un plato de espagueti )\n",
    "# Dificil de depurar por otros programadores en caso de necesidad o error.\n",
    "\n",
    "# Orientados a objetos: son los modernos, para que todas las desventajas de POP desaparezcan\n",
    "# Consiste en trasladar la naturaleza de los objetos de la vida real al código de programación\n",
    "# En la vida real estamos rodeados de objetos (sillas, mesas, computadores...) y todos esos objetos tienen un estado, un comportamiento y unas propiedades.\n",
    "# Estado: como se encuentra ese objeto (coche: parado, circulando, aparcado)\n",
    "# Propiedades: color, peso, tamaño, dimensiones (Atributos)\n",
    "# Comportamiento: puede arrancar, frenar, acelerar, girar (¿qué puede hacer?)\n",
    "# C++, Java, Visual.NET\n",
    "# Ventajas: Dividir los programas en trozos (Modularización)\n",
    "# Codigo muy reutilizable. Para poder reutilizarlo se necesita Herencia\n",
    "# Si existe algún fallo, el programa no cae, continua con su funcionamiento con el tratamiento de excepciones\n",
    "# Encapsulamiento\n",
    "\n",
    "#Vocabulario\n",
    "# Clase\n",
    "# Objeto\n",
    "# Ejemplar de clase, instancia de clase, ejemplarizar una clase, instanciar una clase\n",
    "# Modularización\n",
    "# Encapsulación / encapsulamiento\n",
    "# Herencia\n",
    "# Polimorfismo"
   ]
  }
 ],
 "metadata": {
  "language_info": {
   "name": "python"
  }
 },
 "nbformat": 4,
 "nbformat_minor": 2
}
