{
 "cells": [
  {
   "cell_type": "code",
   "execution_count": null,
   "metadata": {},
   "outputs": [],
   "source": [
    "# Mientras la condicion sea verdadera el cuerpo se estará ejecutando\n",
    "# Es un bucle indeterminado\n",
    "\n",
    "i = 1\n",
    "\n",
    "while i<=10:\n",
    "    print(f\"Ejecución: {i}\")\n",
    "    i = i+1\n",
    "print(\"Terminó la ejecución\")"
   ]
  },
  {
   "cell_type": "code",
   "execution_count": null,
   "metadata": {},
   "outputs": [],
   "source": [
    "# Preguntar la edad, y si se introduce un número negativo vuelva y pregunte\n",
    "\n",
    "edad=int(input(\"Por favor, digite su edad: \"))\n",
    "\n",
    "while edad <0 or edad>100:\n",
    "    print(\"Has introducido una edad errónea. Vuelve a intentarlo\")\n",
    "    edad=int(input(\"Por favor, digite su edad: \"))\n",
    "print(\"Gracias por su colaboración. Puedes pasar\")\n",
    "print(f\"Edad: {edad}\")"
   ]
  },
  {
   "cell_type": "code",
   "execution_count": null,
   "metadata": {},
   "outputs": [],
   "source": [
    "#Raiz cuadrada de un número (debe ser siempre positivo porque de lo contrario genera error)\n",
    "\n",
    "import math\n",
    "\n",
    "numero = int(input(\"Introduce un número por favor: \"))\n",
    "\n",
    "intentos = 0\n",
    "\n",
    "while numero <0:\n",
    "    print(\"No se puede hallar la raíz de un número negativo\")\n",
    "\n",
    "    if intentos == 2:\n",
    "        print(\"Has consumido demasiados intentos. El programa ha finalizado\")\n",
    "        break; #sale del bucle. Si el flujo llega a leer el break, sale del while y continua con la ejecución del programa\n",
    "\n",
    "    numero = int(input(\"Introduce un número por favor: \"))\n",
    "    if numero <0:\n",
    "        intentos = intentos+1\n",
    "\n",
    "if intentos <2:\n",
    "    solucion = math.sqrt(numero)\n",
    "    print (f\"La raíz cuadrada de {numero} es {solucion}\")\n",
    "    print(\"Programa finalizado. Para realizar otro calculo, vuelve a ejecutarlo\")\n"
   ]
  }
 ],
 "metadata": {
  "kernelspec": {
   "display_name": ".venv",
   "language": "python",
   "name": "python3"
  },
  "language_info": {
   "codemirror_mode": {
    "name": "ipython",
    "version": 3
   },
   "file_extension": ".py",
   "mimetype": "text/x-python",
   "name": "python",
   "nbconvert_exporter": "python",
   "pygments_lexer": "ipython3",
   "version": "3.12.4"
  }
 },
 "nbformat": 4,
 "nbformat_minor": 2
}
