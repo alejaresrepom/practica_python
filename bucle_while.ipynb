{
 "cells": [
  {
   "cell_type": "code",
   "execution_count": null,
   "metadata": {},
   "outputs": [],
   "source": [
    "# Mientras la condicion sea verdadera el cuerpo se estará ejecutando\n",
    "\n",
    "i = 1\n",
    "\n",
    "while i<=10:\n",
    "    print(f\"Ejecución: {i}\")\n",
    "    i = i+1\n",
    "print(\"Terminó la ejecución\")"
   ]
  },
  {
   "cell_type": "code",
   "execution_count": null,
   "metadata": {},
   "outputs": [],
   "source": [
    "# Preguntar la edad, y si se introduce un número negativo vuelva y pregunte\n",
    "\n",
    "edad=int(input(\"Por favor, digite su edad: \"))\n",
    "\n",
    "while edad <0:\n",
    "    print(\"Has introducido una edad negativa. Vuelve a intentarlo\")\n",
    "    edad=int(input(\"Por favor, digite su edad: \"))\n",
    "print(\"Gracias por su colaboración. Puedes pasar\")\n",
    "print(\"Edad: \" + )"
   ]
  }
 ],
 "metadata": {
  "kernelspec": {
   "display_name": ".venv",
   "language": "python",
   "name": "python3"
  },
  "language_info": {
   "codemirror_mode": {
    "name": "ipython",
    "version": 3
   },
   "file_extension": ".py",
   "mimetype": "text/x-python",
   "name": "python",
   "nbconvert_exporter": "python",
   "pygments_lexer": "ipython3",
   "version": "3.12.4"
  }
 },
 "nbformat": 4,
 "nbformat_minor": 2
}
